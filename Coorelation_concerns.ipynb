{
 "cells": [
  {
   "cell_type": "code",
   "execution_count": 2,
   "metadata": {},
   "outputs": [],
   "source": [
    "import pandas as pd\n",
    "import numpy as np\n",
    "from mgwr.gwr import GWR\n",
    "from mgwr.sel_bw import Sel_BW\n",
    "import geopandas as gpd\n",
    "from libpysal.weights import KNN\n",
    "import matplotlib.pyplot as plt\n",
    "import folium\n",
    "import branca.colormap as cm "
   ]
  },
  {
   "cell_type": "code",
   "execution_count": null,
   "metadata": {},
   "outputs": [
    {
     "name": "stderr",
     "output_type": "stream",
     "text": [
      "<>:2: SyntaxWarning: invalid escape sequence '\\R'\n",
      "<>:2: SyntaxWarning: invalid escape sequence '\\R'\n",
      "C:\\Users\\sanff\\AppData\\Local\\Temp\\ipykernel_8452\\4204212959.py:2: SyntaxWarning: invalid escape sequence '\\R'\n",
      "  file_path = f\"new_dataset\\Reptilia_top_species.csv\"  # Change this for different categories\n"
     ]
    }
   ],
   "source": [
    "# Load dataset (Manually set the file path for each category)\n",
    "file_path = f\"new_dataset\\Reptilia_top_species.csv\"  # Change this for different categories\n",
    "df = pd.read_csv(file_path)"
   ]
  },
  {
   "cell_type": "code",
   "execution_count": 4,
   "metadata": {},
   "outputs": [
    {
     "name": "stdout",
     "output_type": "stream",
     "text": [
      "['calotes versicolor' 'fowlea piscator' 'hemidactylus']\n"
     ]
    }
   ],
   "source": [
    "print(df[\"scientific_name\"].unique())  # Check the unique scientific names in the dataset"
   ]
  },
  {
   "cell_type": "code",
   "execution_count": 5,
   "metadata": {},
   "outputs": [
    {
     "name": "stdout",
     "output_type": "stream",
     "text": [
      "       latitude  longitude  scientific_name\n",
      "0      8.083090  77.546730                1\n",
      "1      8.088570  77.506172                1\n",
      "2      8.095061  77.446014                1\n",
      "3      8.121021  77.483579                1\n",
      "4      8.125228  77.566278                1\n",
      "...         ...        ...              ...\n",
      "9715  32.719370  74.868063                1\n",
      "9716  32.726602  74.857026                1\n",
      "9717  32.747506  74.855181                1\n",
      "9718  32.774579  74.839565                1\n",
      "9719  33.065206  75.308792                1\n",
      "\n",
      "[9720 rows x 3 columns]\n",
      "----------------------------------------------------------------------------\n",
      "       latitude  longitude  scientific_name\n",
      "9      8.180995  77.403749                2\n",
      "11     8.183284  77.411900                3\n",
      "12     8.183286  77.411900                2\n",
      "69     8.433417  77.401340                2\n",
      "83     8.453915  76.973293                2\n",
      "...         ...        ...              ...\n",
      "9300  28.942339  79.765045                2\n",
      "9352  28.947522  77.100557                2\n",
      "9504  28.985104  79.778358                2\n",
      "9608  30.283498  77.973552                2\n",
      "9674  30.704649  76.717873                2\n",
      "\n",
      "[259 rows x 3 columns]\n",
      "[1 2 3]\n",
      "----------------------------------------------------------------------------\n",
      "Number of unique lat/lon pairs with multiple species: 259\n"
     ]
    },
    {
     "data": {
      "text/html": [
       "<div>\n",
       "<style scoped>\n",
       "    .dataframe tbody tr th:only-of-type {\n",
       "        vertical-align: middle;\n",
       "    }\n",
       "\n",
       "    .dataframe tbody tr th {\n",
       "        vertical-align: top;\n",
       "    }\n",
       "\n",
       "    .dataframe thead th {\n",
       "        text-align: right;\n",
       "    }\n",
       "</style>\n",
       "<table border=\"1\" class=\"dataframe\">\n",
       "  <thead>\n",
       "    <tr style=\"text-align: right;\">\n",
       "      <th></th>\n",
       "      <th>latitude</th>\n",
       "      <th>longitude</th>\n",
       "      <th>scientific_name</th>\n",
       "    </tr>\n",
       "  </thead>\n",
       "  <tbody>\n",
       "    <tr>\n",
       "      <th>9</th>\n",
       "      <td>8.180995</td>\n",
       "      <td>77.403749</td>\n",
       "      <td>2</td>\n",
       "    </tr>\n",
       "    <tr>\n",
       "      <th>11</th>\n",
       "      <td>8.183284</td>\n",
       "      <td>77.411900</td>\n",
       "      <td>3</td>\n",
       "    </tr>\n",
       "    <tr>\n",
       "      <th>12</th>\n",
       "      <td>8.183286</td>\n",
       "      <td>77.411900</td>\n",
       "      <td>2</td>\n",
       "    </tr>\n",
       "    <tr>\n",
       "      <th>69</th>\n",
       "      <td>8.433417</td>\n",
       "      <td>77.401340</td>\n",
       "      <td>2</td>\n",
       "    </tr>\n",
       "    <tr>\n",
       "      <th>83</th>\n",
       "      <td>8.453915</td>\n",
       "      <td>76.973293</td>\n",
       "      <td>2</td>\n",
       "    </tr>\n",
       "  </tbody>\n",
       "</table>\n",
       "</div>"
      ],
      "text/plain": [
       "    latitude  longitude  scientific_name\n",
       "9   8.180995  77.403749                2\n",
       "11  8.183284  77.411900                3\n",
       "12  8.183286  77.411900                2\n",
       "69  8.433417  77.401340                2\n",
       "83  8.453915  76.973293                2"
      ]
     },
     "execution_count": 5,
     "metadata": {},
     "output_type": "execute_result"
    }
   ],
   "source": [
    "# Group by lat/lon and count how many unique species were observed at each location\n",
    "unique_species_per_location = df.groupby([\"latitude\", \"longitude\"])[\"scientific_name\"].nunique().reset_index()\n",
    "print(unique_species_per_location)\n",
    "print(\"----------------------------------------------------------------------------\")\n",
    "# Now filter locations where more than 1 species was observed\n",
    "multi_species_locations = unique_species_per_location[unique_species_per_location[\"scientific_name\"] > 1]\n",
    "print(multi_species_locations)\n",
    "print(unique_species_per_location[\"scientific_name\"].unique())  # Check the unique counts of species per location\n",
    "print(\"----------------------------------------------------------------------------\")\n",
    "\n",
    "print(f\"Number of unique lat/lon pairs with multiple species: {len(multi_species_locations)}\")\n",
    "multi_species_locations.head()\n"
   ]
  },
  {
   "cell_type": "code",
   "execution_count": 9,
   "metadata": {},
   "outputs": [
    {
     "name": "stdout",
     "output_type": "stream",
     "text": [
      "[ 1 11  3  4  2  5  8 37  7  9 12  6 10 18 17 15 13 24]\n",
      "Same species observed multiple times at same lat/lon: 633\n"
     ]
    },
    {
     "data": {
      "text/html": [
       "<div>\n",
       "<style scoped>\n",
       "    .dataframe tbody tr th:only-of-type {\n",
       "        vertical-align: middle;\n",
       "    }\n",
       "\n",
       "    .dataframe tbody tr th {\n",
       "        vertical-align: top;\n",
       "    }\n",
       "\n",
       "    .dataframe thead th {\n",
       "        text-align: right;\n",
       "    }\n",
       "</style>\n",
       "<table border=\"1\" class=\"dataframe\">\n",
       "  <thead>\n",
       "    <tr style=\"text-align: right;\">\n",
       "      <th></th>\n",
       "      <th>latitude</th>\n",
       "      <th>longitude</th>\n",
       "      <th>scientific_name</th>\n",
       "      <th>count</th>\n",
       "    </tr>\n",
       "  </thead>\n",
       "  <tbody>\n",
       "    <tr>\n",
       "      <th>9</th>\n",
       "      <td>8.180995</td>\n",
       "      <td>77.403749</td>\n",
       "      <td>calotes versicolor</td>\n",
       "      <td>11</td>\n",
       "    </tr>\n",
       "    <tr>\n",
       "      <th>14</th>\n",
       "      <td>8.183284</td>\n",
       "      <td>77.411900</td>\n",
       "      <td>hemidactylus</td>\n",
       "      <td>3</td>\n",
       "    </tr>\n",
       "    <tr>\n",
       "      <th>19</th>\n",
       "      <td>8.186770</td>\n",
       "      <td>77.424704</td>\n",
       "      <td>hemidactylus</td>\n",
       "      <td>4</td>\n",
       "    </tr>\n",
       "    <tr>\n",
       "      <th>92</th>\n",
       "      <td>8.461115</td>\n",
       "      <td>77.481737</td>\n",
       "      <td>hemidactylus</td>\n",
       "      <td>2</td>\n",
       "    </tr>\n",
       "    <tr>\n",
       "      <th>95</th>\n",
       "      <td>8.464616</td>\n",
       "      <td>76.927576</td>\n",
       "      <td>calotes versicolor</td>\n",
       "      <td>5</td>\n",
       "    </tr>\n",
       "  </tbody>\n",
       "</table>\n",
       "</div>"
      ],
      "text/plain": [
       "    latitude  longitude     scientific_name  count\n",
       "9   8.180995  77.403749  calotes versicolor     11\n",
       "14  8.183284  77.411900        hemidactylus      3\n",
       "19  8.186770  77.424704        hemidactylus      4\n",
       "92  8.461115  77.481737        hemidactylus      2\n",
       "95  8.464616  76.927576  calotes versicolor      5"
      ]
     },
     "execution_count": 9,
     "metadata": {},
     "output_type": "execute_result"
    }
   ],
   "source": [
    "# Count how many times the same species was seen at same lat/lon (could be on different days)\n",
    "repeat_species = df.groupby([\"latitude\", \"longitude\", \"scientific_name\"]).size().reset_index(name=\"count\")\n",
    "\n",
    "# Filter where count > 1 to find duplicates\n",
    "repeat_species_obs = repeat_species[repeat_species[\"count\"] > 1]\n",
    "print(repeat_species[\"count\"].unique())  # Check the unique counts of species per location\n",
    "\n",
    "print(f\"Same species observed multiple times at same lat/lon: {len(repeat_species_obs)}\")\n",
    "repeat_species_obs.head()\n"
   ]
  },
  {
   "cell_type": "code",
   "execution_count": 7,
   "metadata": {},
   "outputs": [
    {
     "name": "stdout",
     "output_type": "stream",
     "text": [
      "Species observed multiple times at same location on different dates: 447\n"
     ]
    },
    {
     "data": {
      "text/html": [
       "<div>\n",
       "<style scoped>\n",
       "    .dataframe tbody tr th:only-of-type {\n",
       "        vertical-align: middle;\n",
       "    }\n",
       "\n",
       "    .dataframe tbody tr th {\n",
       "        vertical-align: top;\n",
       "    }\n",
       "\n",
       "    .dataframe thead th {\n",
       "        text-align: right;\n",
       "    }\n",
       "</style>\n",
       "<table border=\"1\" class=\"dataframe\">\n",
       "  <thead>\n",
       "    <tr style=\"text-align: right;\">\n",
       "      <th></th>\n",
       "      <th>latitude</th>\n",
       "      <th>longitude</th>\n",
       "      <th>scientific_name</th>\n",
       "      <th>unique_dates</th>\n",
       "    </tr>\n",
       "  </thead>\n",
       "  <tbody>\n",
       "    <tr>\n",
       "      <th>9</th>\n",
       "      <td>8.180995</td>\n",
       "      <td>77.403749</td>\n",
       "      <td>calotes versicolor</td>\n",
       "      <td>8</td>\n",
       "    </tr>\n",
       "    <tr>\n",
       "      <th>14</th>\n",
       "      <td>8.183284</td>\n",
       "      <td>77.411900</td>\n",
       "      <td>hemidactylus</td>\n",
       "      <td>2</td>\n",
       "    </tr>\n",
       "    <tr>\n",
       "      <th>19</th>\n",
       "      <td>8.186770</td>\n",
       "      <td>77.424704</td>\n",
       "      <td>hemidactylus</td>\n",
       "      <td>3</td>\n",
       "    </tr>\n",
       "    <tr>\n",
       "      <th>92</th>\n",
       "      <td>8.461115</td>\n",
       "      <td>77.481737</td>\n",
       "      <td>hemidactylus</td>\n",
       "      <td>2</td>\n",
       "    </tr>\n",
       "    <tr>\n",
       "      <th>95</th>\n",
       "      <td>8.464616</td>\n",
       "      <td>76.927576</td>\n",
       "      <td>calotes versicolor</td>\n",
       "      <td>4</td>\n",
       "    </tr>\n",
       "  </tbody>\n",
       "</table>\n",
       "</div>"
      ],
      "text/plain": [
       "    latitude  longitude     scientific_name  unique_dates\n",
       "9   8.180995  77.403749  calotes versicolor             8\n",
       "14  8.183284  77.411900        hemidactylus             2\n",
       "19  8.186770  77.424704        hemidactylus             3\n",
       "92  8.461115  77.481737        hemidactylus             2\n",
       "95  8.464616  76.927576  calotes versicolor             4"
      ]
     },
     "execution_count": 7,
     "metadata": {},
     "output_type": "execute_result"
    }
   ],
   "source": [
    "# Count how many unique dates each species was observed at each location\n",
    "species_date_check = df.groupby([\"latitude\", \"longitude\", \"scientific_name\"])[\"observed_date\"].nunique().reset_index(name=\"unique_dates\")\n",
    "\n",
    "# Filter to see species observed multiple times (on different dates)\n",
    "species_multiple_dates = species_date_check[species_date_check[\"unique_dates\"] > 1]\n",
    "\n",
    "print(f\"Species observed multiple times at same location on different dates: {len(species_multiple_dates)}\")\n",
    "species_multiple_dates.head()\n"
   ]
  },
  {
   "cell_type": "code",
   "execution_count": 8,
   "metadata": {},
   "outputs": [
    {
     "name": "stdout",
     "output_type": "stream",
     "text": [
      "Potential duplicate entries (same species, same location, same date): 323\n"
     ]
    },
    {
     "data": {
      "text/html": [
       "<div>\n",
       "<style scoped>\n",
       "    .dataframe tbody tr th:only-of-type {\n",
       "        vertical-align: middle;\n",
       "    }\n",
       "\n",
       "    .dataframe tbody tr th {\n",
       "        vertical-align: top;\n",
       "    }\n",
       "\n",
       "    .dataframe thead th {\n",
       "        text-align: right;\n",
       "    }\n",
       "</style>\n",
       "<table border=\"1\" class=\"dataframe\">\n",
       "  <thead>\n",
       "    <tr style=\"text-align: right;\">\n",
       "      <th></th>\n",
       "      <th>latitude</th>\n",
       "      <th>longitude</th>\n",
       "      <th>scientific_name</th>\n",
       "      <th>observed_date</th>\n",
       "      <th>count</th>\n",
       "    </tr>\n",
       "  </thead>\n",
       "  <tbody>\n",
       "    <tr>\n",
       "      <th>11</th>\n",
       "      <td>8.180995</td>\n",
       "      <td>77.403749</td>\n",
       "      <td>calotes versicolor</td>\n",
       "      <td>2015-07-01</td>\n",
       "      <td>2</td>\n",
       "    </tr>\n",
       "    <tr>\n",
       "      <th>13</th>\n",
       "      <td>8.180995</td>\n",
       "      <td>77.403749</td>\n",
       "      <td>calotes versicolor</td>\n",
       "      <td>2015-07-11</td>\n",
       "      <td>2</td>\n",
       "    </tr>\n",
       "    <tr>\n",
       "      <th>16</th>\n",
       "      <td>8.180995</td>\n",
       "      <td>77.403749</td>\n",
       "      <td>calotes versicolor</td>\n",
       "      <td>2019-02-08</td>\n",
       "      <td>2</td>\n",
       "    </tr>\n",
       "    <tr>\n",
       "      <th>21</th>\n",
       "      <td>8.183284</td>\n",
       "      <td>77.411900</td>\n",
       "      <td>hemidactylus</td>\n",
       "      <td>2015-07-13</td>\n",
       "      <td>2</td>\n",
       "    </tr>\n",
       "    <tr>\n",
       "      <th>28</th>\n",
       "      <td>8.186770</td>\n",
       "      <td>77.424704</td>\n",
       "      <td>hemidactylus</td>\n",
       "      <td>2017-11-30</td>\n",
       "      <td>2</td>\n",
       "    </tr>\n",
       "  </tbody>\n",
       "</table>\n",
       "</div>"
      ],
      "text/plain": [
       "    latitude  longitude     scientific_name observed_date  count\n",
       "11  8.180995  77.403749  calotes versicolor    2015-07-01      2\n",
       "13  8.180995  77.403749  calotes versicolor    2015-07-11      2\n",
       "16  8.180995  77.403749  calotes versicolor    2019-02-08      2\n",
       "21  8.183284  77.411900        hemidactylus    2015-07-13      2\n",
       "28  8.186770  77.424704        hemidactylus    2017-11-30      2"
      ]
     },
     "execution_count": 8,
     "metadata": {},
     "output_type": "execute_result"
    }
   ],
   "source": [
    "# Find repeated species at same location on same date\n",
    "duplicates_check = df.groupby([\"latitude\", \"longitude\", \"scientific_name\", \"observed_date\"]).size().reset_index(name=\"count\")\n",
    "potential_duplicates = duplicates_check[duplicates_check[\"count\"] > 1]\n",
    "\n",
    "print(f\"Potential duplicate entries (same species, same location, same date): {len(potential_duplicates)}\")\n",
    "potential_duplicates.head()\n"
   ]
  }
 ],
 "metadata": {
  "kernelspec": {
   "display_name": ".env",
   "language": "python",
   "name": "python3"
  },
  "language_info": {
   "codemirror_mode": {
    "name": "ipython",
    "version": 3
   },
   "file_extension": ".py",
   "mimetype": "text/x-python",
   "name": "python",
   "nbconvert_exporter": "python",
   "pygments_lexer": "ipython3",
   "version": "3.13.1"
  }
 },
 "nbformat": 4,
 "nbformat_minor": 2
}
