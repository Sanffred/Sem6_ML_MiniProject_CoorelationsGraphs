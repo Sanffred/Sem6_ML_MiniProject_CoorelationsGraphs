{
 "cells": [
  {
   "cell_type": "code",
   "execution_count": 1,
   "metadata": {},
   "outputs": [],
   "source": [
    "import pandas as pd\n",
    "import numpy as np\n",
    "from mgwr.gwr import GWR\n",
    "from mgwr.sel_bw import Sel_BW\n",
    "import geopandas as gpd\n",
    "from libpysal.weights import KNN\n",
    "import matplotlib.pyplot as plt"
   ]
  },
  {
   "cell_type": "code",
   "execution_count": null,
   "metadata": {},
   "outputs": [],
   "source": [
    "# Prepare Data for GWR\n",
    "# Load dataset\n",
    "file_path = \"new_dataset\\Actinopterygii_top_species.csv\"\n",
    "df = pd.read_csv(file_path)\n",
    "\n",
    "\n",
    "# Ensure observed_date is in datetime format\n",
    "df[\"observed_date\"] = pd.to_datetime(df[\"observed_date\"])\n",
    "\n",
    "# Select a category to analyze (e.g., Amphibia)\n",
    "selected_category = \"Amphibia\"\n",
    "df_filtered = df[df[\"category\"] == selected_category].copy()\n",
    "\n",
    "# Define dependent variable (e.g., species observation count)\n",
    "df_filtered[\"species_count\"] = df_filtered.groupby([\"latitude\", \"longitude\"])[\"scientific_name\"].transform(\"count\")\n",
    "y = df_filtered[\"species_count\"].values.reshape(-1, 1)  # Dependent variable\n",
    "\n",
    "# Define independent variables (weather conditions)\n",
    "X = df_filtered[[\"temperature_2m_mean\", \"precipitation_sum\", \"wind_speed_10m_max\"]].values\n",
    "\n",
    "# Define spatial coordinates (Latitude & Longitude)\n",
    "coords = df_filtered[[\"longitude\", \"latitude\"]].values"
   ]
  },
  {
   "cell_type": "code",
   "execution_count": 3,
   "metadata": {},
   "outputs": [
    {
     "ename": "KeyboardInterrupt",
     "evalue": "",
     "output_type": "error",
     "traceback": [
      "\u001b[31m---------------------------------------------------------------------------\u001b[39m",
      "\u001b[31mKeyboardInterrupt\u001b[39m                         Traceback (most recent call last)",
      "\u001b[36mCell\u001b[39m\u001b[36m \u001b[39m\u001b[32mIn[3]\u001b[39m\u001b[32m, line 6\u001b[39m\n\u001b[32m      1\u001b[39m \u001b[38;5;66;03m# 3️⃣ Select the Optimal Bandwidth (Kernel Size)\u001b[39;00m\n\u001b[32m      2\u001b[39m \u001b[38;5;66;03m# The bandwidth determines how many nearby points are included for each local regression.\u001b[39;00m\n\u001b[32m      3\u001b[39m \n\u001b[32m      4\u001b[39m \n\u001b[32m      5\u001b[39m \u001b[38;5;66;03m# Automatically find best bandwidth\u001b[39;00m\n\u001b[32m----> \u001b[39m\u001b[32m6\u001b[39m bw = \u001b[43mSel_BW\u001b[49m\u001b[43m(\u001b[49m\u001b[43mcoords\u001b[49m\u001b[43m,\u001b[49m\u001b[43m \u001b[49m\u001b[43my\u001b[49m\u001b[43m,\u001b[49m\u001b[43m \u001b[49m\u001b[43mX\u001b[49m\u001b[43m,\u001b[49m\u001b[43m \u001b[49m\u001b[43mkernel\u001b[49m\u001b[43m=\u001b[49m\u001b[33;43m\"\u001b[39;49m\u001b[33;43mbisquare\u001b[39;49m\u001b[33;43m\"\u001b[39;49m\u001b[43m)\u001b[49m\u001b[43m.\u001b[49m\u001b[43msearch\u001b[49m\u001b[43m(\u001b[49m\u001b[43m)\u001b[49m\n\u001b[32m      7\u001b[39m \u001b[38;5;28mprint\u001b[39m(\u001b[33mf\u001b[39m\u001b[33m\"\u001b[39m\u001b[33mOptimal Bandwidth: \u001b[39m\u001b[38;5;132;01m{\u001b[39;00mbw\u001b[38;5;132;01m}\u001b[39;00m\u001b[33m\"\u001b[39m)\n",
      "\u001b[36mFile \u001b[39m\u001b[32mc:\\Users\\sanff\\Downloads\\coorelation maps\\.env\\Lib\\site-packages\\mgwr\\sel_bw.py:324\u001b[39m, in \u001b[36mSel_BW.search\u001b[39m\u001b[34m(self, search_method, criterion, bw_min, bw_max, interval, tol, max_iter, init_multi, tol_multi, rss_score, max_iter_multi, multi_bw_min, multi_bw_max, bws_same_times, verbose, pool)\u001b[39m\n\u001b[32m    321\u001b[39m     \u001b[38;5;28mself\u001b[39m.bw_init = \u001b[38;5;28mself\u001b[39m.bw[\n\u001b[32m    322\u001b[39m         -\u001b[32m1\u001b[39m]  \u001b[38;5;66;03m#scalar, optimal bw from initial gwr model\u001b[39;00m\n\u001b[32m    323\u001b[39m \u001b[38;5;28;01melse\u001b[39;00m:\n\u001b[32m--> \u001b[39m\u001b[32m324\u001b[39m     \u001b[38;5;28;43mself\u001b[39;49m\u001b[43m.\u001b[49m\u001b[43m_bw\u001b[49m\u001b[43m(\u001b[49m\u001b[43m)\u001b[49m\n\u001b[32m    325\u001b[39m     \u001b[38;5;28mself\u001b[39m.sel_hist = \u001b[38;5;28mself\u001b[39m.bw[-\u001b[32m1\u001b[39m]\n\u001b[32m    327\u001b[39m \u001b[38;5;28;01mreturn\u001b[39;00m \u001b[38;5;28mself\u001b[39m.bw[\u001b[32m0\u001b[39m]\n",
      "\u001b[36mFile \u001b[39m\u001b[32mc:\\Users\\sanff\\Downloads\\coorelation maps\\.env\\Lib\\site-packages\\mgwr\\sel_bw.py:341\u001b[39m, in \u001b[36mSel_BW._bw\u001b[39m\u001b[34m(self)\u001b[39m\n\u001b[32m    338\u001b[39m     a, c = \u001b[38;5;28mself\u001b[39m._init_section(\u001b[38;5;28mself\u001b[39m.X_glob, \u001b[38;5;28mself\u001b[39m.X_loc, \u001b[38;5;28mself\u001b[39m.coords,\n\u001b[32m    339\u001b[39m                               \u001b[38;5;28mself\u001b[39m.constant)\n\u001b[32m    340\u001b[39m     delta = \u001b[32m0.38197\u001b[39m  \u001b[38;5;66;03m#1 - (np.sqrt(5.0)-1.0)/2.0\u001b[39;00m\n\u001b[32m--> \u001b[39m\u001b[32m341\u001b[39m     \u001b[38;5;28mself\u001b[39m.bw = \u001b[43mgolden_section\u001b[49m\u001b[43m(\u001b[49m\u001b[43ma\u001b[49m\u001b[43m,\u001b[49m\u001b[43m \u001b[49m\u001b[43mc\u001b[49m\u001b[43m,\u001b[49m\u001b[43m \u001b[49m\u001b[43mdelta\u001b[49m\u001b[43m,\u001b[49m\u001b[43m \u001b[49m\u001b[43mgwr_func\u001b[49m\u001b[43m,\u001b[49m\u001b[43m \u001b[49m\u001b[38;5;28;43mself\u001b[39;49m\u001b[43m.\u001b[49m\u001b[43mtol\u001b[49m\u001b[43m,\u001b[49m\n\u001b[32m    342\u001b[39m \u001b[43m                             \u001b[49m\u001b[38;5;28;43mself\u001b[39;49m\u001b[43m.\u001b[49m\u001b[43mmax_iter\u001b[49m\u001b[43m,\u001b[49m\u001b[43m \u001b[49m\u001b[38;5;28;43mself\u001b[39;49m\u001b[43m.\u001b[49m\u001b[43mbw_max\u001b[49m\u001b[43m,\u001b[49m\u001b[43m \u001b[49m\u001b[38;5;28;43mself\u001b[39;49m\u001b[43m.\u001b[49m\u001b[43mint_score\u001b[49m\u001b[43m,\u001b[49m\n\u001b[32m    343\u001b[39m \u001b[43m                             \u001b[49m\u001b[38;5;28;43mself\u001b[39;49m\u001b[43m.\u001b[49m\u001b[43mverbose\u001b[49m\u001b[43m)\u001b[49m\n\u001b[32m    344\u001b[39m \u001b[38;5;28;01melif\u001b[39;00m \u001b[38;5;28mself\u001b[39m.search_method == \u001b[33m'\u001b[39m\u001b[33minterval\u001b[39m\u001b[33m'\u001b[39m:\n\u001b[32m    345\u001b[39m     \u001b[38;5;28mself\u001b[39m.bw = equal_interval(\u001b[38;5;28mself\u001b[39m.bw_min, \u001b[38;5;28mself\u001b[39m.bw_max, \u001b[38;5;28mself\u001b[39m.interval,\n\u001b[32m    346\u001b[39m                              gwr_func, \u001b[38;5;28mself\u001b[39m.int_score, \u001b[38;5;28mself\u001b[39m.verbose)\n",
      "\u001b[36mFile \u001b[39m\u001b[32mc:\\Users\\sanff\\Downloads\\coorelation maps\\.env\\Lib\\site-packages\\mgwr\\search.py:66\u001b[39m, in \u001b[36mgolden_section\u001b[39m\u001b[34m(a, c, delta, function, tol, max_iter, bw_max, int_score, verbose)\u001b[39m\n\u001b[32m     64\u001b[39m     score_b = \u001b[38;5;28mdict\u001b[39m[b]\n\u001b[32m     65\u001b[39m \u001b[38;5;28;01melse\u001b[39;00m:\n\u001b[32m---> \u001b[39m\u001b[32m66\u001b[39m     score_b = \u001b[43mfunction\u001b[49m\u001b[43m(\u001b[49m\u001b[43mb\u001b[49m\u001b[43m)\u001b[49m\n\u001b[32m     67\u001b[39m     \u001b[38;5;28mdict\u001b[39m[b] = score_b\n\u001b[32m     68\u001b[39m     \u001b[38;5;28;01mif\u001b[39;00m verbose:\n",
      "\u001b[36mFile \u001b[39m\u001b[32mc:\\Users\\sanff\\Downloads\\coorelation maps\\.env\\Lib\\site-packages\\mgwr\\sel_bw.py:333\u001b[39m, in \u001b[36mSel_BW._bw.<locals>.<lambda>\u001b[39m\u001b[34m(bw)\u001b[39m\n\u001b[32m    329\u001b[39m \u001b[38;5;28;01mdef\u001b[39;00m\u001b[38;5;250m \u001b[39m\u001b[34m_bw\u001b[39m(\u001b[38;5;28mself\u001b[39m):\n\u001b[32m    330\u001b[39m     gwr_func = \u001b[38;5;28;01mlambda\u001b[39;00m bw: getDiag[\u001b[38;5;28mself\u001b[39m.criterion](\u001b[43mGWR\u001b[49m\u001b[43m(\u001b[49m\n\u001b[32m    331\u001b[39m \u001b[43m        \u001b[49m\u001b[38;5;28;43mself\u001b[39;49m\u001b[43m.\u001b[49m\u001b[43mcoords\u001b[49m\u001b[43m,\u001b[49m\u001b[43m \u001b[49m\u001b[38;5;28;43mself\u001b[39;49m\u001b[43m.\u001b[49m\u001b[43my\u001b[49m\u001b[43m,\u001b[49m\u001b[43m \u001b[49m\u001b[38;5;28;43mself\u001b[39;49m\u001b[43m.\u001b[49m\u001b[43mX_loc\u001b[49m\u001b[43m,\u001b[49m\u001b[43m \u001b[49m\u001b[43mbw\u001b[49m\u001b[43m,\u001b[49m\u001b[43m \u001b[49m\u001b[43mfamily\u001b[49m\u001b[43m=\u001b[49m\u001b[38;5;28;43mself\u001b[39;49m\u001b[43m.\u001b[49m\u001b[43mfamily\u001b[49m\u001b[43m,\u001b[49m\u001b[43m \u001b[49m\u001b[43mkernel\u001b[49m\u001b[43m=\u001b[49m\n\u001b[32m    332\u001b[39m \u001b[43m        \u001b[49m\u001b[38;5;28;43mself\u001b[39;49m\u001b[43m.\u001b[49m\u001b[43mkernel\u001b[49m\u001b[43m,\u001b[49m\u001b[43m \u001b[49m\u001b[43mfixed\u001b[49m\u001b[43m=\u001b[49m\u001b[38;5;28;43mself\u001b[39;49m\u001b[43m.\u001b[49m\u001b[43mfixed\u001b[49m\u001b[43m,\u001b[49m\u001b[43m \u001b[49m\u001b[43mconstant\u001b[49m\u001b[43m=\u001b[49m\u001b[38;5;28;43mself\u001b[39;49m\u001b[43m.\u001b[49m\u001b[43mconstant\u001b[49m\u001b[43m,\u001b[49m\u001b[43m \u001b[49m\u001b[43moffset\u001b[49m\u001b[43m=\u001b[49m\u001b[38;5;28;43mself\u001b[39;49m\u001b[43m.\u001b[49m\n\u001b[32m--> \u001b[39m\u001b[32m333\u001b[39m \u001b[43m        \u001b[49m\u001b[43moffset\u001b[49m\u001b[43m,\u001b[49m\u001b[43m \u001b[49m\u001b[43mspherical\u001b[49m\u001b[43m=\u001b[49m\u001b[38;5;28;43mself\u001b[39;49m\u001b[43m.\u001b[49m\u001b[43mspherical\u001b[49m\u001b[43m,\u001b[49m\u001b[43m \u001b[49m\u001b[43mn_jobs\u001b[49m\u001b[43m=\u001b[49m\u001b[38;5;28;43mself\u001b[39;49m\u001b[43m.\u001b[49m\u001b[43mn_jobs\u001b[49m\u001b[43m)\u001b[49m\u001b[43m.\u001b[49m\u001b[43mfit\u001b[49m\u001b[43m(\u001b[49m\u001b[43mlite\u001b[49m\u001b[43m=\u001b[49m\u001b[38;5;28;43;01mTrue\u001b[39;49;00m\u001b[43m)\u001b[49m)\n\u001b[32m    335\u001b[39m     \u001b[38;5;28mself\u001b[39m._optimized_function = gwr_func\n\u001b[32m    337\u001b[39m     \u001b[38;5;28;01mif\u001b[39;00m \u001b[38;5;28mself\u001b[39m.search_method == \u001b[33m'\u001b[39m\u001b[33mgolden_section\u001b[39m\u001b[33m'\u001b[39m:\n",
      "\u001b[36mFile \u001b[39m\u001b[32mc:\\Users\\sanff\\Downloads\\coorelation maps\\.env\\Lib\\site-packages\\mgwr\\gwr.py:348\u001b[39m, in \u001b[36mGWR.fit\u001b[39m\u001b[34m(self, ini_params, tol, max_iter, solve, lite, pool)\u001b[39m\n\u001b[32m    345\u001b[39m \u001b[38;5;28;01melse\u001b[39;00m:\n\u001b[32m    346\u001b[39m     m = \u001b[38;5;28mself\u001b[39m.points.shape[\u001b[32m0\u001b[39m]\n\u001b[32m--> \u001b[39m\u001b[32m348\u001b[39m rslt = \u001b[43mParallel\u001b[49m\u001b[43m(\u001b[49m\u001b[43mn_jobs\u001b[49m\u001b[43m=\u001b[49m\u001b[38;5;28;43mself\u001b[39;49m\u001b[43m.\u001b[49m\u001b[43mn_jobs\u001b[49m\u001b[43m)\u001b[49m\u001b[43m(\u001b[49m\u001b[43mdelayed\u001b[49m\u001b[43m(\u001b[49m\u001b[38;5;28;43mself\u001b[39;49m\u001b[43m.\u001b[49m\u001b[43m_local_fit\u001b[49m\u001b[43m)\u001b[49m\u001b[43m(\u001b[49m\u001b[43mi\u001b[49m\u001b[43m)\u001b[49m\u001b[43m \u001b[49m\u001b[38;5;28;43;01mfor\u001b[39;49;00m\u001b[43m \u001b[49m\u001b[43mi\u001b[49m\u001b[43m \u001b[49m\u001b[38;5;129;43;01min\u001b[39;49;00m\u001b[43m \u001b[49m\u001b[38;5;28;43mrange\u001b[39;49m\u001b[43m(\u001b[49m\u001b[43mm\u001b[49m\u001b[43m)\u001b[49m\u001b[43m)\u001b[49m\n\u001b[32m    350\u001b[39m rslt_list = \u001b[38;5;28mlist\u001b[39m(\u001b[38;5;28mzip\u001b[39m(*rslt))\n\u001b[32m    351\u001b[39m influ = np.array(rslt_list[\u001b[32m0\u001b[39m]).reshape(-\u001b[32m1\u001b[39m, \u001b[32m1\u001b[39m)\n",
      "\u001b[36mFile \u001b[39m\u001b[32mc:\\Users\\sanff\\Downloads\\coorelation maps\\.env\\Lib\\site-packages\\joblib\\parallel.py:2007\u001b[39m, in \u001b[36mParallel.__call__\u001b[39m\u001b[34m(self, iterable)\u001b[39m\n\u001b[32m   2001\u001b[39m \u001b[38;5;66;03m# The first item from the output is blank, but it makes the interpreter\u001b[39;00m\n\u001b[32m   2002\u001b[39m \u001b[38;5;66;03m# progress until it enters the Try/Except block of the generator and\u001b[39;00m\n\u001b[32m   2003\u001b[39m \u001b[38;5;66;03m# reaches the first `yield` statement. This starts the asynchronous\u001b[39;00m\n\u001b[32m   2004\u001b[39m \u001b[38;5;66;03m# dispatch of the tasks to the workers.\u001b[39;00m\n\u001b[32m   2005\u001b[39m \u001b[38;5;28mnext\u001b[39m(output)\n\u001b[32m-> \u001b[39m\u001b[32m2007\u001b[39m \u001b[38;5;28;01mreturn\u001b[39;00m output \u001b[38;5;28;01mif\u001b[39;00m \u001b[38;5;28mself\u001b[39m.return_generator \u001b[38;5;28;01melse\u001b[39;00m \u001b[38;5;28;43mlist\u001b[39;49m\u001b[43m(\u001b[49m\u001b[43moutput\u001b[49m\u001b[43m)\u001b[49m\n",
      "\u001b[36mFile \u001b[39m\u001b[32mc:\\Users\\sanff\\Downloads\\coorelation maps\\.env\\Lib\\site-packages\\joblib\\parallel.py:1650\u001b[39m, in \u001b[36mParallel._get_outputs\u001b[39m\u001b[34m(self, iterator, pre_dispatch)\u001b[39m\n\u001b[32m   1647\u001b[39m     \u001b[38;5;28;01myield\u001b[39;00m\n\u001b[32m   1649\u001b[39m     \u001b[38;5;28;01mwith\u001b[39;00m \u001b[38;5;28mself\u001b[39m._backend.retrieval_context():\n\u001b[32m-> \u001b[39m\u001b[32m1650\u001b[39m         \u001b[38;5;28;01myield from\u001b[39;00m \u001b[38;5;28mself\u001b[39m._retrieve()\n\u001b[32m   1652\u001b[39m \u001b[38;5;28;01mexcept\u001b[39;00m \u001b[38;5;167;01mGeneratorExit\u001b[39;00m:\n\u001b[32m   1653\u001b[39m     \u001b[38;5;66;03m# The generator has been garbage collected before being fully\u001b[39;00m\n\u001b[32m   1654\u001b[39m     \u001b[38;5;66;03m# consumed. This aborts the remaining tasks if possible and warn\u001b[39;00m\n\u001b[32m   1655\u001b[39m     \u001b[38;5;66;03m# the user if necessary.\u001b[39;00m\n\u001b[32m   1656\u001b[39m     \u001b[38;5;28mself\u001b[39m._exception = \u001b[38;5;28;01mTrue\u001b[39;00m\n",
      "\u001b[36mFile \u001b[39m\u001b[32mc:\\Users\\sanff\\Downloads\\coorelation maps\\.env\\Lib\\site-packages\\joblib\\parallel.py:1762\u001b[39m, in \u001b[36mParallel._retrieve\u001b[39m\u001b[34m(self)\u001b[39m\n\u001b[32m   1757\u001b[39m \u001b[38;5;66;03m# If the next job is not ready for retrieval yet, we just wait for\u001b[39;00m\n\u001b[32m   1758\u001b[39m \u001b[38;5;66;03m# async callbacks to progress.\u001b[39;00m\n\u001b[32m   1759\u001b[39m \u001b[38;5;28;01mif\u001b[39;00m ((\u001b[38;5;28mlen\u001b[39m(\u001b[38;5;28mself\u001b[39m._jobs) == \u001b[32m0\u001b[39m) \u001b[38;5;129;01mor\u001b[39;00m\n\u001b[32m   1760\u001b[39m     (\u001b[38;5;28mself\u001b[39m._jobs[\u001b[32m0\u001b[39m].get_status(\n\u001b[32m   1761\u001b[39m         timeout=\u001b[38;5;28mself\u001b[39m.timeout) == TASK_PENDING)):\n\u001b[32m-> \u001b[39m\u001b[32m1762\u001b[39m     \u001b[43mtime\u001b[49m\u001b[43m.\u001b[49m\u001b[43msleep\u001b[49m\u001b[43m(\u001b[49m\u001b[32;43m0.01\u001b[39;49m\u001b[43m)\u001b[49m\n\u001b[32m   1763\u001b[39m     \u001b[38;5;28;01mcontinue\u001b[39;00m\n\u001b[32m   1765\u001b[39m \u001b[38;5;66;03m# We need to be careful: the job list can be filling up as\u001b[39;00m\n\u001b[32m   1766\u001b[39m \u001b[38;5;66;03m# we empty it and Python list are not thread-safe by\u001b[39;00m\n\u001b[32m   1767\u001b[39m \u001b[38;5;66;03m# default hence the use of the lock\u001b[39;00m\n",
      "\u001b[31mKeyboardInterrupt\u001b[39m: "
     ]
    }
   ],
   "source": [
    "# 3️⃣ Select the Optimal Bandwidth (Kernel Size)\n",
    "# The bandwidth determines how many nearby points are included for each local regression.\n",
    "\n",
    "\n",
    "# Automatically find best bandwidth\n",
    "bw = Sel_BW(coords, y, X, kernel=\"bisquare\").search()\n",
    "print(f\"Optimal Bandwidth: {bw}\")"
   ]
  },
  {
   "cell_type": "code",
   "execution_count": null,
   "metadata": {},
   "outputs": [],
   "source": [
    "# 4️⃣ Fit the GWR Model\n",
    "\n",
    "\n",
    "# Run GWR with the selected bandwidth\n",
    "gwr_model = GWR(coords, y, X, bw, kernel=\"bisquare\")\n",
    "gwr_results = gwr_model.fit()\n",
    "\n",
    "# Print summary\n",
    "print(gwr_results.summary())"
   ]
  },
  {
   "cell_type": "code",
   "execution_count": null,
   "metadata": {},
   "outputs": [],
   "source": [
    "# How to Visualize GWR Results\n",
    "# Map the Temperature Coefficients\n",
    "\n",
    "\n",
    "\n",
    "# Convert results into a DataFrame\n",
    "df_filtered[\"temp_coeff\"] = gwr_results.params[:, 0]  # Coefficients for temperature\n",
    "\n",
    "# Convert to GeoDataFrame\n",
    "gdf = gpd.GeoDataFrame(df_filtered, geometry=gpd.points_from_xy(df_filtered.longitude, df_filtered.latitude))\n",
    "\n",
    "# Plot the results as a heatmap\n",
    "fig, ax = plt.subplots(figsize=(10, 6))\n",
    "gdf.plot(column=\"temp_coeff\", cmap=\"coolwarm\", legend=True, ax=ax)\n",
    "plt.title(\"GWR Coefficients for Temperature Effect on Wildlife\")\n",
    "plt.xlabel(\"Longitude\")\n",
    "plt.ylabel(\"Latitude\")\n",
    "plt.show()"
   ]
  }
 ],
 "metadata": {
  "kernelspec": {
   "display_name": ".env",
   "language": "python",
   "name": "python3"
  },
  "language_info": {
   "codemirror_mode": {
    "name": "ipython",
    "version": 3
   },
   "file_extension": ".py",
   "mimetype": "text/x-python",
   "name": "python",
   "nbconvert_exporter": "python",
   "pygments_lexer": "ipython3",
   "version": "3.13.1"
  }
 },
 "nbformat": 4,
 "nbformat_minor": 2
}
